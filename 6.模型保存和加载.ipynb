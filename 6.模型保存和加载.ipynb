{
 "cells": [
  {
   "cell_type": "markdown",
   "id": "9173d967",
   "metadata": {},
   "source": [
    "# 模型保存和加载"
   ]
  },
  {
   "cell_type": "code",
   "execution_count": 9,
   "id": "50ae3943",
   "metadata": {},
   "outputs": [],
   "source": [
    "import torch\n",
    "import torchvision.models as models"
   ]
  },
  {
   "cell_type": "markdown",
   "id": "89ca760b",
   "metadata": {},
   "source": [
    "## 模型权重的保存和加载"
   ]
  },
  {
   "cell_type": "markdown",
   "id": "236d00cb",
   "metadata": {},
   "source": [
    "PyTorch 将模型学习到的参数存储在一个内部状态字典中，叫 state_dict。它们可以通过 torch.save 方法来持久化。"
   ]
  },
  {
   "cell_type": "markdown",
   "id": "8b0cb14c",
   "metadata": {},
   "source": [
    "models.vgg16()：这是从 torchvision.models 模块中加载一个 VGG16 模型。vgg16 是一种深度卷积神经网络架构，通常用于图像分类任务。\n",
    "\n",
    "weights='IMAGENET1K_V1'：这个参数表示加载的是在 ImageNet 数据集上预训练的 VGG16 模型。'IMAGENET1K_V1' 是一个预训练权重的标识符，表示这个模型是用 ImageNet 1000 类数据集进行训练的。\n",
    "torchvision.models 提供了多个预训练的模型（如 ResNet、VGG、AlexNet 等），这些模型已经在 ImageNet 上进行过训练，因此你可以直接使用这些模型进行迁移学习，或者仅使用它们的预训练权重进行特征提取。"
   ]
  },
  {
   "cell_type": "code",
   "execution_count": 10,
   "id": "819444c6",
   "metadata": {},
   "outputs": [
    {
     "name": "stderr",
     "output_type": "stream",
     "text": [
      "Downloading: \"https://download.pytorch.org/models/vgg16-397923af.pth\" to C:\\Users\\11219/.cache\\torch\\hub\\checkpoints\\vgg16-397923af.pth\n",
      "100%|███████████████████████████████████████████████████████████████████████████████| 528M/528M [02:35<00:00, 3.57MB/s]\n"
     ]
    }
   ],
   "source": [
    "model = models.vgg16(weights='IMAGENET1K_V1')\n",
    "# state_dict() 是 PyTorch 模型的一个重要方法，它返回一个字典，其中包含了模型的所有参数（权重和偏置）。这包括卷积层、全连接层等层的权重矩阵。\n",
    "# 该方法返回的是一个 Python 字典，键是层的名称（如 features.0.weight），值是层的权重值（如张量）。\n",
    "# torch.save() 是一个 PyTorch 的方法，用于将对象保存到指定的文件。\n",
    "torch.save(model.state_dict(), 'model_weights.pth')"
   ]
  },
  {
   "cell_type": "markdown",
   "id": "7467ec36",
   "metadata": {},
   "source": [
    "**加载权重**"
   ]
  },
  {
   "cell_type": "code",
   "execution_count": 11,
   "id": "a2c226d6",
   "metadata": {},
   "outputs": [
    {
     "data": {
      "text/plain": [
       "VGG(\n",
       "  (features): Sequential(\n",
       "    (0): Conv2d(3, 64, kernel_size=(3, 3), stride=(1, 1), padding=(1, 1))\n",
       "    (1): ReLU(inplace=True)\n",
       "    (2): Conv2d(64, 64, kernel_size=(3, 3), stride=(1, 1), padding=(1, 1))\n",
       "    (3): ReLU(inplace=True)\n",
       "    (4): MaxPool2d(kernel_size=2, stride=2, padding=0, dilation=1, ceil_mode=False)\n",
       "    (5): Conv2d(64, 128, kernel_size=(3, 3), stride=(1, 1), padding=(1, 1))\n",
       "    (6): ReLU(inplace=True)\n",
       "    (7): Conv2d(128, 128, kernel_size=(3, 3), stride=(1, 1), padding=(1, 1))\n",
       "    (8): ReLU(inplace=True)\n",
       "    (9): MaxPool2d(kernel_size=2, stride=2, padding=0, dilation=1, ceil_mode=False)\n",
       "    (10): Conv2d(128, 256, kernel_size=(3, 3), stride=(1, 1), padding=(1, 1))\n",
       "    (11): ReLU(inplace=True)\n",
       "    (12): Conv2d(256, 256, kernel_size=(3, 3), stride=(1, 1), padding=(1, 1))\n",
       "    (13): ReLU(inplace=True)\n",
       "    (14): Conv2d(256, 256, kernel_size=(3, 3), stride=(1, 1), padding=(1, 1))\n",
       "    (15): ReLU(inplace=True)\n",
       "    (16): MaxPool2d(kernel_size=2, stride=2, padding=0, dilation=1, ceil_mode=False)\n",
       "    (17): Conv2d(256, 512, kernel_size=(3, 3), stride=(1, 1), padding=(1, 1))\n",
       "    (18): ReLU(inplace=True)\n",
       "    (19): Conv2d(512, 512, kernel_size=(3, 3), stride=(1, 1), padding=(1, 1))\n",
       "    (20): ReLU(inplace=True)\n",
       "    (21): Conv2d(512, 512, kernel_size=(3, 3), stride=(1, 1), padding=(1, 1))\n",
       "    (22): ReLU(inplace=True)\n",
       "    (23): MaxPool2d(kernel_size=2, stride=2, padding=0, dilation=1, ceil_mode=False)\n",
       "    (24): Conv2d(512, 512, kernel_size=(3, 3), stride=(1, 1), padding=(1, 1))\n",
       "    (25): ReLU(inplace=True)\n",
       "    (26): Conv2d(512, 512, kernel_size=(3, 3), stride=(1, 1), padding=(1, 1))\n",
       "    (27): ReLU(inplace=True)\n",
       "    (28): Conv2d(512, 512, kernel_size=(3, 3), stride=(1, 1), padding=(1, 1))\n",
       "    (29): ReLU(inplace=True)\n",
       "    (30): MaxPool2d(kernel_size=2, stride=2, padding=0, dilation=1, ceil_mode=False)\n",
       "  )\n",
       "  (avgpool): AdaptiveAvgPool2d(output_size=(7, 7))\n",
       "  (classifier): Sequential(\n",
       "    (0): Linear(in_features=25088, out_features=4096, bias=True)\n",
       "    (1): ReLU(inplace=True)\n",
       "    (2): Dropout(p=0.5, inplace=False)\n",
       "    (3): Linear(in_features=4096, out_features=4096, bias=True)\n",
       "    (4): ReLU(inplace=True)\n",
       "    (5): Dropout(p=0.5, inplace=False)\n",
       "    (6): Linear(in_features=4096, out_features=1000, bias=True)\n",
       "  )\n",
       ")"
      ]
     },
     "execution_count": 11,
     "metadata": {},
     "output_type": "execute_result"
    }
   ],
   "source": [
    "# 这行代码创建一个未训练的 VGG16 模型实例。注意，这里没有指定 weights 参数\n",
    "# 因此这个模型的所有权重将是随机初始化的，即模型是从头开始训练的，并且没有任何预训练权重。\n",
    "model = models.vgg16()\n",
    "# torch.load 用于加载存储在 'model_weights.pth' 文件中的模型权重。\n",
    "# 这样，加载的权重就会替换模型的初始化权重，使得该模型拥有了之前训练时保存的参数。\n",
    "model.load_state_dict(torch.load('model_weights.pth'))\n",
    "#  将模型设置为评估模式\n",
    "model.eval()"
   ]
  },
  {
   "cell_type": "markdown",
   "id": "7b500643",
   "metadata": {},
   "source": [
    "注意到，在加载模型权重的时候，我们需要首先实例化一个模型类，因为模型类定义了神经网络的结构。\n",
    "当然也可以直接保存整个模型结构，这样只需要直接加载模型结构。"
   ]
  },
  {
   "cell_type": "markdown",
   "id": "3876c35e",
   "metadata": {},
   "source": [
    "## 保存和加载模型结构 "
   ]
  },
  {
   "cell_type": "code",
   "execution_count": 12,
   "id": "705a8d5a",
   "metadata": {},
   "outputs": [],
   "source": [
    "# 保存整个模型（模型架构 + 权重）\n",
    "# model：这是要保存的 PyTorch 模型对象。\n",
    "# 它不仅包含模型的权重（即 state_dict），还包括模型的结构、层定义以及所有相关信息。\n",
    "torch.save(model, 'model.pth')"
   ]
  },
  {
   "cell_type": "code",
   "execution_count": 13,
   "id": "90589337",
   "metadata": {},
   "outputs": [],
   "source": [
    "# 加载整个模型结构\n",
    "model = torch.load('model.pth')"
   ]
  }
 ],
 "metadata": {
  "kernelspec": {
   "display_name": "Python 3 (ipykernel)",
   "language": "python",
   "name": "python3"
  },
  "language_info": {
   "codemirror_mode": {
    "name": "ipython",
    "version": 3
   },
   "file_extension": ".py",
   "mimetype": "text/x-python",
   "name": "python",
   "nbconvert_exporter": "python",
   "pygments_lexer": "ipython3",
   "version": "3.9.19"
  }
 },
 "nbformat": 4,
 "nbformat_minor": 5
}
